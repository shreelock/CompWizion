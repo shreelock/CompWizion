{
 "cells": [
  {
   "cell_type": "code",
   "execution_count": 3,
   "metadata": {},
   "outputs": [],
   "source": [
    "import cv2\n",
    "import numpy as np\n",
    "from math import log, ceil, floor\n",
    "import matplotlib.pyplot as plt\n",
    "import pickle\n",
    "import sys\n",
    "\n",
    "def help_message():\n",
    "    # Note: it is assumed that \"binary_codes_ids_codebook.pckl\", \"stereo_calibration.pckl\",\n",
    "    # and images folder are in the same root folder as your \"generate_data.py\" source file.\n",
    "    # Same folder structure will be used when we test your program\n",
    "\n",
    "    print(\"Usage: [Output_Directory]\")\n",
    "    print(\"[Output_Directory]\")\n",
    "    print(\"Where to put your output.xyz\")\n",
    "    print(\"Example usages:\")\n",
    "    print(sys.argv[0] + \" ./\")\n"
   ]
  },
  {
   "cell_type": "code",
   "execution_count": null,
   "metadata": {},
   "outputs": [],
   "source": []
  },
  {
   "cell_type": "code",
   "execution_count": null,
   "metadata": {},
   "outputs": [],
   "source": []
  },
  {
   "cell_type": "code",
   "execution_count": 4,
   "metadata": {},
   "outputs": [],
   "source": [
    "def reconstruct_from_binary_patterns():\n",
    "    scale_factor = 1.0\n",
    "    ref_white = cv2.resize(\n",
    "        cv2.imread(\"images/pattern000.jpg\", cv2.IMREAD_GRAYSCALE) / 255.0, (0,0),\n",
    "        fx=scale_factor,\n",
    "        fy=scale_factor)\n",
    "    ref_black = cv2.resize(\n",
    "        cv2.imread(\"images/pattern001.jpg\", cv2.IMREAD_GRAYSCALE) / 255.0, (0,0),\n",
    "        fx=scale_factor,\n",
    "        fy=scale_factor)\n",
    "\n",
    "    ref_avg = (ref_white + ref_black) / 2.0\n",
    "\n",
    "    ref_on = ref_avg + 0.0  # a threshold for ON pixels\n",
    "    ref_off = ref_avg - 0.5  # add a small buffer region\n",
    "\n",
    "    h, w = ref_white.shape\n",
    "\n",
    "    # mask of pixels where there is projection\n",
    "    proj_mask = (ref_white > (ref_black + 0.1))\n",
    "\n",
    "    scan_bits = np.zeros((h, w), dtype=np.uint16)\n",
    "\n",
    "    # analyze the binary patterns from the camera\n",
    "    for i in range(0, 15):\n",
    "        # read the file\n",
    "        # patt_gray = cv2.resize(\n",
    "        #     cv2.imread(\"images/pattern%03d.jpg\" % (i + 2), cv2.IMREAD_GRAYSCALE) / 255.0, (0, 0),\n",
    "        #     fx=scale_factor,\n",
    "        #     fy=scale_factor)\n",
    "\n",
    "        patt_gray = cv2.resize(\n",
    "            cv2.imread(\"images_new/aligned%03d.jpg\" % (i + 2), cv2.IMREAD_GRAYSCALE) / 255.0, (0, 0),\n",
    "            fx=scale_factor,\n",
    "            fy=scale_factor)\n",
    "\n",
    "        # mask where the pixels are ON\n",
    "        on_mask = (patt_gray > ref_on) & proj_mask\n",
    "\n",
    "        # this code corresponds with the binary pattern code\n",
    "\n",
    "        bit_code = np.uint16(1 << i)\n",
    "        scan_bits = np.add(scan_bits, np.multiply(bit_code,on_mask))\n",
    "        # print np.unique(scan_bits),\"z\\nz\"\n",
    "\n",
    "        # TODO: populate scan_bits by putting the bit_code according to on_mask\n",
    "\n",
    "\n",
    "        #cv2.imshow(\"onm\", 255*np.uint8(on_mask))\n",
    "        #cv2.waitKey()\n",
    "\n",
    "    print(\"load codebook\")\n",
    "    # the codebook translates from <binary code> to (x,y) in projector screen space\n",
    "    with open(\"binary_codes_ids_codebook.pckl\", \"r\") as f:\n",
    "        binary_codes_ids_codebook = pickle.load(f)\n",
    "\n",
    "    camera_points = np.array([[0,0]])\n",
    "    projector_points = np.array([[0,0]])\n",
    "    data = np.zeros(([h,w,3]))\n",
    "    i=0\n",
    "    for x in range(w):\n",
    "        for y in range(h):\n",
    "            if not proj_mask[y, x]:\n",
    "                continue  # no projection here\n",
    "            if scan_bits[y, x] not in binary_codes_ids_codebook:\n",
    "                continue  # bad binary code\n",
    "            \n",
    "            \n",
    "            pp = binary_codes_ids_codebook[scan_bits[y,x]]\n",
    "            p_x, p_y = pp\n",
    "            if p_x >= 1279 or p_y >= 799: # filter\n",
    "                continue\n",
    "            \n",
    "            data[y,x] = [0,p_y, p_x]\n",
    "            cp=(x/2,y/2)\n",
    "            # camera_points.append(tuple(cp))\n",
    "            # camera_points = np.concatenate((camera_points,np.array([[x/2, y/2]])), axis=0)\n",
    "            camera_points = np.concatenate((camera_points,np.array([[x/2, y/2]])))\n",
    "            # print camera_points.shape\n",
    "\n",
    "            # projector_points.append(tuple(pp))\n",
    "            projector_points = np.concatenate((projector_points,np.array([[p_x, p_y]])))\n",
    "            # print projector_point\n",
    "            \n",
    "            \n",
    "            \n",
    "            # TODO: use binary_codes_ids_codebook[...] and scan_bits[y,x] to\n",
    "            # TODO: find for the camera (x,y) the projector (p_x, p_y).\n",
    "            # TODO: store your points in camera_points and projector_points\n",
    "\n",
    "            # IMPORTANT!!! : due to differences in calibration and acquisition - divide the camera points by 2\n",
    "    \n",
    "    #for i in range(len(projector_points)):\n",
    "    #    print camera_points[i],\":\", projector_points[i]\n",
    "    #raw_input()\n",
    "    \n",
    "    #cv2.imshow(\"cada\",data)\n",
    "    #cv2.waitKey()\n",
    "    \n",
    "    print \"done\"\n",
    "    return camera_points, projector_points\n",
    "    "
   ]
  },
  {
   "cell_type": "code",
   "execution_count": 25,
   "metadata": {},
   "outputs": [],
   "source": [
    "def new_func(camera_points, projector_points):\n",
    "    # now that we have 2D-2D correspondances, we can triangulate 3D points!\n",
    "    # load the prepared stereo calibration between projector and camera\n",
    "    with open(\"stereo_calibration.pckl\", \"r\") as f:\n",
    "        d = pickle.load(f)\n",
    "        camera_K = d['camera_K']\n",
    "        camera_d = d['camera_d']\n",
    "        projector_K = d['projector_K']\n",
    "        projector_d = d['projector_d']\n",
    "        projector_R = d['projector_R']\n",
    "        projector_t = d['projector_t']\n",
    "\n",
    "        # TODO: use cv2.undistortPoints to get normalized points for camera, use camera_K and camera_d\n",
    "        # TODO: use cv2.undistortPoints to get normalized points for projector, use projector_K and projector_d\n",
    "        # print cp, camera_K, camera_d\n",
    "        print camera_K.shape, camera_d.shape\n",
    "        norm_cp = cv2.undistortPoints(camera_points, camera_K, camera_d)\n",
    "        print 'one dome'\n",
    "        norm_pp = cv2.undistortPoints(projector_points, projector_K, projector_d)\n",
    "        print 'two dome'\n",
    "        \n",
    "        print norm_pp.shape, norm_cp.shape\n",
    "        \n",
    "        print 'projector R and t values'\n",
    "        print projector_R, projector_t\n",
    "        RT = np.hstack((projector_R,projector_t))\n",
    "        \n",
    "        proj_proj_mat = np.dot(projector_K,RT)\n",
    "        print 'proj proj mat shape',proj_proj_mat.shape\n",
    "        \n",
    "        camera_R = np.eye(3)\n",
    "        camera_t = np.zeros((3,1))\n",
    "        \n",
    "        print 'camera R and t values'\n",
    "        print camera_R, camera_t\n",
    "        camRT = np.hstack((camera_R, camera_t))\n",
    "        \n",
    "        cam_proj_mat = np.dot(camera_K, camRT)\n",
    "        print 'cam proj mat shape',cam_proj_mat.shape\n",
    "        \n",
    "        triangulatedPoints = cv2.triangulatePoints(cam_proj_mat, proj_proj_mat , norm_pp, norm_cp)\n",
    "        points_3d = cv2.convertPointsFromHomogeneous(triangulatedPoints)\n",
    "        \n",
    "\n",
    "        # TODO: use cv2.triangulatePoints to triangulate the normalized points\n",
    "        # TODO: use cv2.convertPointsFromHomogeneous to get real 3D points\n",
    "        # TODO: name the resulted 3D points as \"points_3d\"\n",
    "        return points_3d"
   ]
  },
  {
   "cell_type": "code",
   "execution_count": null,
   "metadata": {},
   "outputs": [],
   "source": []
  },
  {
   "cell_type": "code",
   "execution_count": null,
   "metadata": {},
   "outputs": [],
   "source": []
  },
  {
   "cell_type": "code",
   "execution_count": null,
   "metadata": {},
   "outputs": [],
   "source": []
  },
  {
   "cell_type": "code",
   "execution_count": null,
   "metadata": {},
   "outputs": [],
   "source": []
  },
  {
   "cell_type": "code",
   "execution_count": 6,
   "metadata": {},
   "outputs": [],
   "source": [
    "def write_3d_points(points_3d):\n",
    "    # ===== DO NOT CHANGE THIS FUNCTION =====\n",
    "    print(\"write output point cloud\")\n",
    "    print(points_3d.shape)\n",
    "#     output_name = sys.argv[1] + \"output.xyz\"\n",
    "    output_name = \"./output.xyz\"\n",
    "    with open(output_name, \"w\") as f:\n",
    "        for p in points_3d:\n",
    "            f.write(\"%d %d %d\\n\" % (p[0, 0], p[0, 1], p[0, 2]))\n",
    "\n",
    "    return points_3d, camera_points, projector_points"
   ]
  },
  {
   "cell_type": "code",
   "execution_count": null,
   "metadata": {},
   "outputs": [],
   "source": []
  },
  {
   "cell_type": "code",
   "execution_count": 7,
   "metadata": {},
   "outputs": [
    {
     "name": "stdout",
     "output_type": "stream",
     "text": [
      "load codebook\n",
      "done\n"
     ]
    }
   ],
   "source": [
    "if __name__ == '__main__':\n",
    "    # ===== DO NOT CHANGE THIS FUNCTION =====\n",
    "    # validate the input arguments\n",
    "#     if (len(sys.argv) != 2):\n",
    "#         help_message()\n",
    "#         sys.exit()\n",
    "\n",
    "    cam_p, proj_p = reconstruct_from_binary_patterns()"
   ]
  },
  {
   "cell_type": "code",
   "execution_count": null,
   "metadata": {},
   "outputs": [],
   "source": []
  },
  {
   "cell_type": "code",
   "execution_count": 26,
   "metadata": {},
   "outputs": [
    {
     "name": "stdout",
     "output_type": "stream",
     "text": [
      "(1, 245559, 2) (245559, 2) (245559, 2)\n",
      "entring new- func\n",
      "(3, 3) (5, 1)\n",
      "one dome\n",
      "two dome\n",
      "(1, 245559, 2) (1, 245559, 2)\n",
      "projector R and t values\n",
      "[[-0.99802373 -0.00650097 -0.06250105]\n",
      " [ 0.00207499 -0.99750112  0.07062017]\n",
      " [-0.06280397  0.07035091  0.99554327]] [[-16.8515114 ]\n",
      " [ 72.13462419]\n",
      " [  5.38563319]]\n",
      "proj proj mat shape (3, 4)\n",
      "camera R and t values\n",
      "[[ 1.  0.  0.]\n",
      " [ 0.  1.  0.]\n",
      " [ 0.  0.  1.]] [[ 0.]\n",
      " [ 0.]\n",
      " [ 0.]]\n",
      "cam proj mat shape (3, 4)\n"
     ]
    },
    {
     "ename": "error",
     "evalue": "/io/opencv/modules/calib3d/src/fundam.cpp:851: error: (-215) npoints >= 0 in function convertPointsFromHomogeneous\n",
     "output_type": "error",
     "traceback": [
      "\u001b[0;31m---------------------------------------------------------------------------\u001b[0m",
      "\u001b[0;31merror\u001b[0m                                     Traceback (most recent call last)",
      "\u001b[0;32m<ipython-input-26-8dc1cbdb5b30>\u001b[0m in \u001b[0;36m<module>\u001b[0;34m()\u001b[0m\n\u001b[1;32m     13\u001b[0m \u001b[0;34m\u001b[0m\u001b[0m\n\u001b[1;32m     14\u001b[0m \u001b[0;32mprint\u001b[0m \u001b[0;34m'entring new- func'\u001b[0m\u001b[0;34m\u001b[0m\u001b[0m\n\u001b[0;32m---> 15\u001b[0;31m \u001b[0mpoints_3d\u001b[0m \u001b[0;34m=\u001b[0m \u001b[0mnew_func\u001b[0m\u001b[0;34m(\u001b[0m\u001b[0mtempcamp\u001b[0m\u001b[0;34m,\u001b[0m \u001b[0mtempprojp\u001b[0m\u001b[0;34m)\u001b[0m\u001b[0;34m\u001b[0m\u001b[0m\n\u001b[0m",
      "\u001b[0;32m<ipython-input-25-8ea0ef62fdcc>\u001b[0m in \u001b[0;36mnew_func\u001b[0;34m(camera_points, projector_points)\u001b[0m\n\u001b[1;32m     40\u001b[0m \u001b[0;34m\u001b[0m\u001b[0m\n\u001b[1;32m     41\u001b[0m         \u001b[0mtriangulatedPoints\u001b[0m \u001b[0;34m=\u001b[0m \u001b[0mcv2\u001b[0m\u001b[0;34m.\u001b[0m\u001b[0mtriangulatePoints\u001b[0m\u001b[0;34m(\u001b[0m\u001b[0mcam_proj_mat\u001b[0m\u001b[0;34m,\u001b[0m \u001b[0mproj_proj_mat\u001b[0m \u001b[0;34m,\u001b[0m \u001b[0mnorm_pp\u001b[0m\u001b[0;34m,\u001b[0m \u001b[0mnorm_cp\u001b[0m\u001b[0;34m)\u001b[0m\u001b[0;34m\u001b[0m\u001b[0m\n\u001b[0;32m---> 42\u001b[0;31m         \u001b[0mpoints_3d\u001b[0m \u001b[0;34m=\u001b[0m \u001b[0mcv2\u001b[0m\u001b[0;34m.\u001b[0m\u001b[0mconvertPointsFromHomogeneous\u001b[0m\u001b[0;34m(\u001b[0m\u001b[0mtriangulatedPoints\u001b[0m\u001b[0;34m)\u001b[0m\u001b[0;34m\u001b[0m\u001b[0m\n\u001b[0m\u001b[1;32m     43\u001b[0m \u001b[0;34m\u001b[0m\u001b[0m\n\u001b[1;32m     44\u001b[0m \u001b[0;34m\u001b[0m\u001b[0m\n",
      "\u001b[0;31merror\u001b[0m: /io/opencv/modules/calib3d/src/fundam.cpp:851: error: (-215) npoints >= 0 in function convertPointsFromHomogeneous\n"
     ]
    }
   ],
   "source": [
    "camp = np.asmatrix(cam_p.astype('float32'))\n",
    "projp = proj_p.astype('float32')\n",
    "\n",
    "x,y = camp.shape\n",
    "\n",
    "# Changed shape cuz this -> https://stackoverflow.com/questions/11017984/how-to-format-xy-points-for-undistortpoints-with-the-python-cv2-api\n",
    "tempcamp = np.zeros((1,x,y), dtype=np.float32)\n",
    "print tempcamp.shape, camp.shape, projp.shape\n",
    "tempcamp[0,:,:] = camp\n",
    "\n",
    "tempprojp = np.zeros((1,x,y), dtype=np.float32)\n",
    "tempprojp[0,:,:] = projp\n",
    "\n",
    "print 'entring new- func'\n",
    "points_3d = new_func(tempcamp, tempprojp)"
   ]
  },
  {
   "cell_type": "code",
   "execution_count": null,
   "metadata": {},
   "outputs": [],
   "source": []
  },
  {
   "cell_type": "code",
   "execution_count": null,
   "metadata": {},
   "outputs": [],
   "source": []
  },
  {
   "cell_type": "code",
   "execution_count": null,
   "metadata": {},
   "outputs": [],
   "source": []
  },
  {
   "cell_type": "code",
   "execution_count": null,
   "metadata": {},
   "outputs": [],
   "source": []
  },
  {
   "cell_type": "code",
   "execution_count": null,
   "metadata": {},
   "outputs": [],
   "source": []
  },
  {
   "cell_type": "code",
   "execution_count": null,
   "metadata": {},
   "outputs": [],
   "source": []
  },
  {
   "cell_type": "code",
   "execution_count": null,
   "metadata": {},
   "outputs": [],
   "source": []
  },
  {
   "cell_type": "code",
   "execution_count": null,
   "metadata": {},
   "outputs": [],
   "source": []
  },
  {
   "cell_type": "code",
   "execution_count": null,
   "metadata": {},
   "outputs": [],
   "source": []
  },
  {
   "cell_type": "code",
   "execution_count": null,
   "metadata": {},
   "outputs": [],
   "source": []
  },
  {
   "cell_type": "code",
   "execution_count": null,
   "metadata": {},
   "outputs": [],
   "source": []
  },
  {
   "cell_type": "code",
   "execution_count": null,
   "metadata": {},
   "outputs": [],
   "source": []
  },
  {
   "cell_type": "code",
   "execution_count": null,
   "metadata": {},
   "outputs": [],
   "source": []
  },
  {
   "cell_type": "code",
   "execution_count": null,
   "metadata": {},
   "outputs": [],
   "source": []
  },
  {
   "cell_type": "code",
   "execution_count": null,
   "metadata": {},
   "outputs": [],
   "source": []
  },
  {
   "cell_type": "code",
   "execution_count": null,
   "metadata": {},
   "outputs": [],
   "source": []
  },
  {
   "cell_type": "code",
   "execution_count": null,
   "metadata": {},
   "outputs": [],
   "source": []
  },
  {
   "cell_type": "code",
   "execution_count": null,
   "metadata": {},
   "outputs": [],
   "source": []
  },
  {
   "cell_type": "code",
   "execution_count": null,
   "metadata": {},
   "outputs": [],
   "source": []
  },
  {
   "cell_type": "code",
   "execution_count": null,
   "metadata": {},
   "outputs": [],
   "source": []
  },
  {
   "cell_type": "code",
   "execution_count": null,
   "metadata": {},
   "outputs": [],
   "source": []
  },
  {
   "cell_type": "code",
   "execution_count": null,
   "metadata": {},
   "outputs": [],
   "source": []
  },
  {
   "cell_type": "code",
   "execution_count": null,
   "metadata": {},
   "outputs": [],
   "source": []
  },
  {
   "cell_type": "code",
   "execution_count": null,
   "metadata": {},
   "outputs": [],
   "source": []
  },
  {
   "cell_type": "code",
   "execution_count": null,
   "metadata": {},
   "outputs": [],
   "source": []
  },
  {
   "cell_type": "code",
   "execution_count": null,
   "metadata": {},
   "outputs": [],
   "source": []
  },
  {
   "cell_type": "code",
   "execution_count": null,
   "metadata": {},
   "outputs": [],
   "source": []
  },
  {
   "cell_type": "code",
   "execution_count": null,
   "metadata": {},
   "outputs": [],
   "source": []
  },
  {
   "cell_type": "code",
   "execution_count": null,
   "metadata": {},
   "outputs": [],
   "source": []
  },
  {
   "cell_type": "code",
   "execution_count": null,
   "metadata": {},
   "outputs": [],
   "source": []
  },
  {
   "cell_type": "code",
   "execution_count": null,
   "metadata": {},
   "outputs": [],
   "source": []
  },
  {
   "cell_type": "code",
   "execution_count": null,
   "metadata": {},
   "outputs": [],
   "source": []
  },
  {
   "cell_type": "code",
   "execution_count": null,
   "metadata": {},
   "outputs": [],
   "source": []
  },
  {
   "cell_type": "code",
   "execution_count": null,
   "metadata": {},
   "outputs": [],
   "source": []
  },
  {
   "cell_type": "code",
   "execution_count": null,
   "metadata": {},
   "outputs": [],
   "source": []
  },
  {
   "cell_type": "code",
   "execution_count": null,
   "metadata": {},
   "outputs": [],
   "source": []
  },
  {
   "cell_type": "code",
   "execution_count": null,
   "metadata": {},
   "outputs": [],
   "source": []
  },
  {
   "cell_type": "code",
   "execution_count": null,
   "metadata": {},
   "outputs": [],
   "source": []
  },
  {
   "cell_type": "code",
   "execution_count": null,
   "metadata": {},
   "outputs": [],
   "source": []
  },
  {
   "cell_type": "code",
   "execution_count": null,
   "metadata": {},
   "outputs": [],
   "source": []
  },
  {
   "cell_type": "code",
   "execution_count": null,
   "metadata": {},
   "outputs": [],
   "source": []
  },
  {
   "cell_type": "code",
   "execution_count": null,
   "metadata": {},
   "outputs": [],
   "source": []
  },
  {
   "cell_type": "code",
   "execution_count": null,
   "metadata": {},
   "outputs": [],
   "source": []
  },
  {
   "cell_type": "code",
   "execution_count": null,
   "metadata": {},
   "outputs": [],
   "source": []
  },
  {
   "cell_type": "code",
   "execution_count": null,
   "metadata": {},
   "outputs": [],
   "source": []
  },
  {
   "cell_type": "code",
   "execution_count": null,
   "metadata": {},
   "outputs": [],
   "source": []
  },
  {
   "cell_type": "code",
   "execution_count": null,
   "metadata": {},
   "outputs": [],
   "source": []
  },
  {
   "cell_type": "code",
   "execution_count": null,
   "metadata": {},
   "outputs": [],
   "source": []
  },
  {
   "cell_type": "code",
   "execution_count": null,
   "metadata": {},
   "outputs": [],
   "source": []
  },
  {
   "cell_type": "code",
   "execution_count": null,
   "metadata": {},
   "outputs": [],
   "source": []
  },
  {
   "cell_type": "code",
   "execution_count": null,
   "metadata": {},
   "outputs": [],
   "source": []
  },
  {
   "cell_type": "code",
   "execution_count": null,
   "metadata": {},
   "outputs": [],
   "source": []
  },
  {
   "cell_type": "code",
   "execution_count": null,
   "metadata": {},
   "outputs": [],
   "source": []
  },
  {
   "cell_type": "code",
   "execution_count": null,
   "metadata": {},
   "outputs": [],
   "source": []
  },
  {
   "cell_type": "code",
   "execution_count": null,
   "metadata": {},
   "outputs": [],
   "source": []
  },
  {
   "cell_type": "code",
   "execution_count": null,
   "metadata": {},
   "outputs": [],
   "source": []
  },
  {
   "cell_type": "code",
   "execution_count": null,
   "metadata": {},
   "outputs": [],
   "source": [
    "write_3d_points(points_3d)"
   ]
  }
 ],
 "metadata": {
  "kernelspec": {
   "display_name": "Python 2",
   "language": "python",
   "name": "python2"
  },
  "language_info": {
   "codemirror_mode": {
    "name": "ipython",
    "version": 2
   },
   "file_extension": ".py",
   "mimetype": "text/x-python",
   "name": "python",
   "nbconvert_exporter": "python",
   "pygments_lexer": "ipython2",
   "version": "2.7.6"
  }
 },
 "nbformat": 4,
 "nbformat_minor": 2
}
